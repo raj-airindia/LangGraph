{
 "cells": [
  {
   "cell_type": "code",
   "execution_count": 1,
   "metadata": {},
   "outputs": [
    {
     "name": "stderr",
     "output_type": "stream",
     "text": [
      "/var/folders/nm/5cckxsbx0yl9wzynfv0qzsxc0000gn/T/ipykernel_68358/223808856.py:15: LangChainDeprecationWarning: The class `TavilySearchResults` was deprecated in LangChain 0.3.25 and will be removed in 1.0. An updated version of the class exists in the :class:`~langchain-tavily package and should be used instead. To use it run `pip install -U :class:`~langchain-tavily` and import as `from :class:`~langchain_tavily import TavilySearch``.\n",
      "  search_tool = TavilySearchResults(max_results=2)\n"
     ]
    }
   ],
   "source": [
    "from typing import TypedDict, Annotated\n",
    "from langgraph.graph import add_messages, StateGraph, END\n",
    "# from langchain_groq import ChatGroq\n",
    "from langchain_core.messages import AIMessage, HumanMessage\n",
    "from dotenv import load_dotenv\n",
    "from langchain_community.tools.tavily_search import TavilySearchResults\n",
    "from langgraph.prebuilt import ToolNode\n",
    "from ourLLM import create_azure_openai_model\n",
    "\n",
    "load_dotenv()\n",
    "\n",
    "class ChildState(TypedDict):\n",
    "    messages: Annotated[list, add_messages]\n",
    "\n",
    "search_tool = TavilySearchResults(max_results=2)\n",
    "tools = [search_tool]\n",
    "\n",
    "llm = create_azure_openai_model()\n",
    "\n",
    "llm_with_tools = llm.bind_tools(tools=tools)\n",
    "\n",
    "def agent(state: ChildState):\n",
    "    return {\n",
    "        \"messages\": [llm_with_tools.invoke(state[\"messages\"])], \n",
    "    }\n",
    "\n",
    "def tools_router(state: ChildState):\n",
    "    last_message = state[\"messages\"][-1]\n",
    "\n",
    "    if(hasattr(last_message, \"tool_calls\") and len(last_message.tool_calls) > 0):\n",
    "        return \"tool_node\"\n",
    "    else: \n",
    "        return END\n",
    "    \n",
    "\n",
    "tool_node = ToolNode(tools=tools)\n",
    "\n",
    "subgraph = StateGraph(ChildState)\n",
    "\n",
    "subgraph.add_node(\"agent\", agent)\n",
    "subgraph.add_node(\"tool_node\", tool_node)\n",
    "subgraph.set_entry_point(\"agent\")\n",
    "\n",
    "subgraph.add_conditional_edges(\"agent\", tools_router)\n",
    "subgraph.add_edge(\"tool_node\", \"agent\")\n",
    "\n",
    "search_app = subgraph.compile()"
   ]
  },
  {
   "cell_type": "code",
   "execution_count": 2,
   "metadata": {},
   "outputs": [
    {
     "data": {
      "image/png": "[encoded data removed]",
      "text/plain": [
       "<IPython.core.display.Image object>"
      ]
     },
     "metadata": {},
     "output_type": "display_data"
    }
   ],
   "source": [
    "from IPython.display import Image, display\n",
    "from langchain_core.runnables.graph import MermaidDrawMethod\n",
    "\n",
    "display(\n",
    "    Image(\n",
    "        search_app.get_graph().draw_mermaid_png(\n",
    "            draw_method=MermaidDrawMethod.API\n",
    "        )\n",
    "    )\n",
    ")"
   ]
  },
  {
   "cell_type": "code",
   "execution_count": 3,
   "metadata": {},
   "outputs": [
    {
     "data": {
      "text/plain": [
       "{'messages': [HumanMessage(content='How is the weather in Chennai?', additional_kwargs={}, response_metadata={}, id='ef9a131f-8d4b-4680-8fff-05fbf2f2492c'),\n",
       "  AIMessage(content='', additional_kwargs={'tool_calls': [{'id': 'call_VW772HbMboWPUhQSL4XQ8sIn', 'function': {'arguments': '{\"query\":\"Chennai weather\"}', 'name': 'tavily_search_results_json'}, 'type': 'function'}], 'refusal': None}, response_metadata={'token_usage': {'completion_tokens': 21, 'prompt_tokens': 86, 'total_tokens': 107, 'completion_tokens_details': {'accepted_prediction_tokens': 0, 'audio_tokens': 0, 'reasoning_tokens': 0, 'rejected_prediction_tokens': 0}, 'prompt_tokens_details': {'audio_tokens': 0, 'cached_tokens': 0}}, 'model_name': 'gpt-4o-mini-2024-07-18', 'system_fingerprint': 'fp_efad92c60b', 'id': 'chatcmpl-BwoLHJUOeSbDhbzqs7h5LEeBPFzLI', 'service_tier': None, 'prompt_filter_results': [{'prompt_index': 0, 'content_filter_results': {'hate': {'filtered': False, 'severity': 'safe'}, 'self_harm': {'filtered': False, 'severity': 'safe'}, 'sexual': {'filtered': False, 'severity': 'safe'}, 'violence': {'filtered': False, 'severity': 'safe'}}}], 'finish_reason': 'tool_calls', 'logprobs': None, 'content_filter_results': {}}, id='run--64b02ad7-de8d-47f7-924c-2df315cbb319-0', tool_calls=[{'name': 'tavily_search_results_json', 'args': {'query': 'Chennai weather'}, 'id': 'call_VW772HbMboWPUhQSL4XQ8sIn', 'type': 'tool_call'}], usage_metadata={'input_tokens': 86, 'output_tokens': 21, 'total_tokens': 107, 'input_token_details': {'audio': 0, 'cache_read': 0}, 'output_token_details': {'audio': 0, 'reasoning': 0}}),\n",
       "  ToolMessage(content='[{\"title\": \"Chennai weather in July 2025 - Weather25.com\", \"url\": \"https://www.weather25.com/asia/india/tamil-nadu/chennai?page=month&month=July\", \"content\": \"weather25.com\\\\nSearch\\\\nweather in India\\\\nRemove from your favorite locations\\\\nAdd to my locations\\\\nShare\\\\nweather in India\\\\n\\\\n# Chennai weather in July 2025\\\\n\\\\nThe temperatures in Chennai during July are extremely high, between 28°C and hot as 34°C, drinking water regularly is advisable.\\\\n\\\\nYou can expect about 3 to 8 days of rain in Chennai during the month of July. It’s a good idea to bring along your umbrella so that you don’t get caught in poor weather. [...] | 20 Partly cloudy 33° /28° | 21 Overcast 34° /28° | 22 Patchy rain possible 32° /27° | 23 Light rain shower 34° /27° | 24 Thundery outbreaks possible 33° /27° | 25 Patchy rain possible 32° /27° | 26 Moderate rain at times 32° /27° |\\\\n| 27 Patchy rain possible 33° /28° | 28 Partly cloudy 34° /28° | 29 Thundery outbreaks possible 35° /28° | 30 Partly cloudy 34° /28° | 31 Thundery outbreaks possible 34° /28° |  |  | [...] Moderate or heavy rain shower\\\\nPatchy rain possible\\\\nLight rain shower\\\\nPartly cloudy\\\\nLight rain shower\\\\nPatchy light rain with thunder\\\\nPatchy rain possible\\\\nLight rain shower\\\\nLight rain shower\\\\nPatchy light rain\\\\nLight rain shower\\\\nPatchy rain possible\\\\nLight rain shower\\\\nLight rain shower\\\\nLight rain shower\\\\nPatchy rain possible\\\\nPatchy rain possible\\\\nLight rain shower\\\\nPatchy rain possible\\\\nPartly cloudy\\\\nOvercast\\\\nPatchy rain possible\\\\nLight rain shower\\\\nThundery outbreaks possible\\\\nPatchy rain possible\", \"score\": 0.9317675}, {\"title\": \"July 2025 Weather History in Chennai Tamil Nadu, India\", \"url\": \"https://weatherspark.com/h/m/110123/2025/7/Historical-Weather-in-July-2025-in-Chennai-Tamil-Nadu-India\", \"content\": \"S | 250,615 mi | | 7 | | 90% | - | 2:28 AM | WSW | 3:45 PM | ESE | 9:30 PM | S | 249,266 mi | | 8 | | 95% | - | 3:15 AM | WSW | 4:39 PM | ESE | 10:23 PM | S | 247,433 mi | | 9 | | 99% | - | 4:07 AM | WSW | 5:34 PM | ESE | 11:18 PM | S | 245,280 mi | | 10 | | 100% | - | 5:02 AM | WSW | 6:27 PM | ESE | - | - | | 11 | | 100% | - | 5:59 AM | WSW | 7:18 PM | ESE | 12:14 AM | S | 242,967 mi | | 12 | | 99% | - | 6:56 AM | WSW | 8:05 PM | ESE | 1:08 AM | S | 240,635 mi | | 13 | | 96% | - | 7:52 AM | [...] | 20 | | 27% | 1:05 AM | ENE | 2:22 PM | WNW | - | 7:42 AM | N | 228,748 mi | | 21 | | 17% | 2:00 AM | ENE | 3:27 PM | WNW | - | 8:42 AM | N | 228,769 mi | | 22 | | 9% | 3:00 AM | ENE | 4:32 PM | WNW | - | 9:45 AM | N | 229,390 mi | | 23 | | 3% | 4:03 AM | ENE | 5:33 PM | WNW | - | 10:49 AM | N | 230,670 mi | | 24 | | 0% | 5:07 AM | ENE | 6:29 PM | WNW | - | 11:50 AM | N | 232,598 mi | | 25 | | 0% | 6:09 AM | ENE | 7:18 PM | WNW | - | 12:45 PM | N | 235,083 mi | | 26 | | 3% | 7:06 AM | ENE | [...] WSW | 8:49 PM | ESE | 1:59 AM | S | 238,395 mi | | 14 | | 90% | - | 8:46 AM | WSW | 9:30 PM | E | 2:48 AM | S | 236,314 mi | | 15 | | 82% | - | 9:39 AM | W | 10:10 PM | E | 3:35 AM | S | 234,429 mi | | 16 | | 73% | - | 10:32 AM | W | 10:50 PM | E | 4:20 AM | S | 232,755 mi | | 17 | | 62% | - | 11:25 AM | W | 11:31 PM | ENE | 5:06 AM | S | 231,306 mi | | 18 | | 50% | - | 12:21 PM | WNW | - | 5:54 AM | S | 230,111 mi | | 19 | | 38% | 12:16 AM | ENE | 1:20 PM | WNW | - | 6:46 AM | N | 229,230 mi |\", \"score\": 0.86767644}]', name='tavily_search_results_json', id='bff268b6-430a-4217-9f67-ebbf451b069c', tool_call_id='call_VW772HbMboWPUhQSL4XQ8sIn', artifact={'query': 'Chennai weather', 'follow_up_questions': None, 'answer': None, 'images': [], 'results': [{'url': 'https://www.weather25.com/asia/india/tamil-nadu/chennai?page=month&month=July', 'title': 'Chennai weather in July 2025 - Weather25.com', 'content': 'weather25.com\\nSearch\\nweather in India\\nRemove from your favorite locations\\nAdd to my locations\\nShare\\nweather in India\\n\\n# Chennai weather in July 2025\\n\\nThe temperatures in Chennai during July are extremely high, between 28°C and hot as 34°C, drinking water regularly is advisable.\\n\\nYou can expect about 3 to 8 days of rain in Chennai during the month of July. It’s a good idea to bring along your umbrella so that you don’t get caught in poor weather. [...] | 20 Partly cloudy 33° /28° | 21 Overcast 34° /28° | 22 Patchy rain possible 32° /27° | 23 Light rain shower 34° /27° | 24 Thundery outbreaks possible 33° /27° | 25 Patchy rain possible 32° /27° | 26 Moderate rain at times 32° /27° |\\n| 27 Patchy rain possible 33° /28° | 28 Partly cloudy 34° /28° | 29 Thundery outbreaks possible 35° /28° | 30 Partly cloudy 34° /28° | 31 Thundery outbreaks possible 34° /28° |  |  | [...] Moderate or heavy rain shower\\nPatchy rain possible\\nLight rain shower\\nPartly cloudy\\nLight rain shower\\nPatchy light rain with thunder\\nPatchy rain possible\\nLight rain shower\\nLight rain shower\\nPatchy light rain\\nLight rain shower\\nPatchy rain possible\\nLight rain shower\\nLight rain shower\\nLight rain shower\\nPatchy rain possible\\nPatchy rain possible\\nLight rain shower\\nPatchy rain possible\\nPartly cloudy\\nOvercast\\nPatchy rain possible\\nLight rain shower\\nThundery outbreaks possible\\nPatchy rain possible', 'score': 0.9317675, 'raw_content': None}, {'url': 'https://weatherspark.com/h/m/110123/2025/7/Historical-Weather-in-July-2025-in-Chennai-Tamil-Nadu-India', 'title': 'July 2025 Weather History in Chennai Tamil Nadu, India', 'content': 'S | 250,615 mi | | 7 | | 90% | - | 2:28 AM | WSW | 3:45 PM | ESE | 9:30 PM | S | 249,266 mi | | 8 | | 95% | - | 3:15 AM | WSW | 4:39 PM | ESE | 10:23 PM | S | 247,433 mi | | 9 | | 99% | - | 4:07 AM | WSW | 5:34 PM | ESE | 11:18 PM | S | 245,280 mi | | 10 | | 100% | - | 5:02 AM | WSW | 6:27 PM | ESE | - | - | | 11 | | 100% | - | 5:59 AM | WSW | 7:18 PM | ESE | 12:14 AM | S | 242,967 mi | | 12 | | 99% | - | 6:56 AM | WSW | 8:05 PM | ESE | 1:08 AM | S | 240,635 mi | | 13 | | 96% | - | 7:52 AM | [...] | 20 | | 27% | 1:05 AM | ENE | 2:22 PM | WNW | - | 7:42 AM | N | 228,748 mi | | 21 | | 17% | 2:00 AM | ENE | 3:27 PM | WNW | - | 8:42 AM | N | 228,769 mi | | 22 | | 9% | 3:00 AM | ENE | 4:32 PM | WNW | - | 9:45 AM | N | 229,390 mi | | 23 | | 3% | 4:03 AM | ENE | 5:33 PM | WNW | - | 10:49 AM | N | 230,670 mi | | 24 | | 0% | 5:07 AM | ENE | 6:29 PM | WNW | - | 11:50 AM | N | 232,598 mi | | 25 | | 0% | 6:09 AM | ENE | 7:18 PM | WNW | - | 12:45 PM | N | 235,083 mi | | 26 | | 3% | 7:06 AM | ENE | [...] WSW | 8:49 PM | ESE | 1:59 AM | S | 238,395 mi | | 14 | | 90% | - | 8:46 AM | WSW | 9:30 PM | E | 2:48 AM | S | 236,314 mi | | 15 | | 82% | - | 9:39 AM | W | 10:10 PM | E | 3:35 AM | S | 234,429 mi | | 16 | | 73% | - | 10:32 AM | W | 10:50 PM | E | 4:20 AM | S | 232,755 mi | | 17 | | 62% | - | 11:25 AM | W | 11:31 PM | ENE | 5:06 AM | S | 231,306 mi | | 18 | | 50% | - | 12:21 PM | WNW | - | 5:54 AM | S | 230,111 mi | | 19 | | 38% | 12:16 AM | ENE | 1:20 PM | WNW | - | 6:46 AM | N | 229,230 mi |', 'score': 0.86767644, 'raw_content': None}], 'response_time': 0.81}),\n",
       "  AIMessage(content='The current weather in Chennai indicates:\\n\\n- **Temperature**: Between 28°C and 34°C, feeling quite hot.\\n- **Condition**: Partly cloudy with some likelihood of rain.\\n- **Rainfall**: You can expect about 3 to 8 days of rain throughout the month of July.\\n\\nIt is advisable to carry an umbrella to stay prepared for any rain. \\n\\nFor updated weather reports or forecasts, you may want to check local weather services or websites.', additional_kwargs={'refusal': None}, response_metadata={'token_usage': {'completion_tokens': 98, 'prompt_tokens': 1457, 'total_tokens': 1555, 'completion_tokens_details': {'accepted_prediction_tokens': 0, 'audio_tokens': 0, 'reasoning_tokens': 0, 'rejected_prediction_tokens': 0}, 'prompt_tokens_details': {'audio_tokens': 0, 'cached_tokens': 1408}}, 'model_name': 'gpt-4o-mini-2024-07-18', 'system_fingerprint': 'fp_efad92c60b', 'id': 'chatcmpl-BwoLLC1LRTghjJJ1vGEqlJ9PQyk5a', 'service_tier': None, 'prompt_filter_results': [{'prompt_index': 0, 'content_filter_results': {'hate': {'filtered': False, 'severity': 'safe'}, 'self_harm': {'filtered': False, 'severity': 'safe'}, 'sexual': {'filtered': False, 'severity': 'safe'}, 'violence': {'filtered': False, 'severity': 'safe'}}}], 'finish_reason': 'stop', 'logprobs': None, 'content_filter_results': {'hate': {'filtered': False, 'severity': 'safe'}, 'self_harm': {'filtered': False, 'severity': 'safe'}, 'sexual': {'filtered': False, 'severity': 'safe'}, 'violence': {'filtered': False, 'severity': 'safe'}}}, id='run--71bce66d-0c0e-4ec9-80ed-94f0fa1ccb37-0', usage_metadata={'input_tokens': 1457, 'output_tokens': 98, 'total_tokens': 1555, 'input_token_details': {'audio': 0, 'cache_read': 1408}, 'output_token_details': {'audio': 0, 'reasoning': 0}})]}"
      ]
     },
     "execution_count": 3,
     "metadata": {},
     "output_type": "execute_result"
    }
   ],
   "source": [
    "search_app.invoke({\"messages\": [HumanMessage(content=\"How is the weather in Chennai?\")]})"
   ]
  },
  {
   "cell_type": "markdown",
   "metadata": {},
   "source": [
    "Case 1: Shared Schema (Direct Embedding)"
   ]
  },
  {
   "cell_type": "code",
   "execution_count": 4,
   "metadata": {},
   "outputs": [
    {
     "data": {
      "text/plain": [
       "{'messages': [HumanMessage(content='How is the weather in Chennai?', additional_kwargs={}, response_metadata={}, id='98de6fa5-fc24-4f90-abc0-164c75074fb6'),\n",
       "  AIMessage(content='', additional_kwargs={'tool_calls': [{'id': 'call_9UA5pH1kzEQMijzhOhrmQ47O', 'function': {'arguments': '{\"query\":\"current weather in Chennai\"}', 'name': 'tavily_search_results_json'}, 'type': 'function'}], 'refusal': None}, response_metadata={'token_usage': {'completion_tokens': 22, 'prompt_tokens': 86, 'total_tokens': 108, 'completion_tokens_details': {'accepted_prediction_tokens': 0, 'audio_tokens': 0, 'reasoning_tokens': 0, 'rejected_prediction_tokens': 0}, 'prompt_tokens_details': {'audio_tokens': 0, 'cached_tokens': 0}}, 'model_name': 'gpt-4o-mini-2024-07-18', 'system_fingerprint': 'fp_efad92c60b', 'id': 'chatcmpl-BwoLO4VcH8z4QdNxfAfjHY6hZA4Sr', 'service_tier': None, 'prompt_filter_results': [{'prompt_index': 0, 'content_filter_results': {'hate': {'filtered': False, 'severity': 'safe'}, 'self_harm': {'filtered': False, 'severity': 'safe'}, 'sexual': {'filtered': False, 'severity': 'safe'}, 'violence': {'filtered': False, 'severity': 'safe'}}}], 'finish_reason': 'tool_calls', 'logprobs': None, 'content_filter_results': {}}, id='run--a3678899-6541-4184-8bb3-3c2c3cbda511-0', tool_calls=[{'name': 'tavily_search_results_json', 'args': {'query': 'current weather in Chennai'}, 'id': 'call_9UA5pH1kzEQMijzhOhrmQ47O', 'type': 'tool_call'}], usage_metadata={'input_tokens': 86, 'output_tokens': 22, 'total_tokens': 108, 'input_token_details': {'audio': 0, 'cache_read': 0}, 'output_token_details': {'audio': 0, 'reasoning': 0}}),\n",
       "  ToolMessage(content='[{\"title\": \"Chennai weather in July 2025 - Weather25.com\", \"url\": \"https://www.weather25.com/asia/india/tamil-nadu/chennai?page=month&month=July\", \"content\": \"weather25.com\\\\nSearch\\\\nweather in India\\\\nRemove from your favorite locations\\\\nAdd to my locations\\\\nShare\\\\nweather in India\\\\n\\\\n# Chennai weather in July 2025\\\\n\\\\nLight rain shower\\\\nCloudy\\\\nCloudy\\\\nPartly cloudy\\\\nCloudy\\\\nPartly cloudy\\\\nOvercast\\\\nPartly cloudy\\\\nCloudy\\\\nPartly cloudy\\\\nPartly cloudy\\\\nPartly cloudy\\\\nPatchy rain possible\\\\nLight rain shower\\\\n\\\\n## The average weather in Chennai in July\\\\n\\\\nThe temperatures in Chennai during July are extremely high, between 28°C and hot as 34°C, drinking water regularly is advisable. [...] | 27 Partly cloudy 34° /27° | 28 Cloudy 35° /28° | 29 Partly cloudy 35° /29° | 30 Overcast 35° /28° | 31 Partly cloudy 35° /28° |  |  | [...] Moderate or heavy rain shower\\\\nPatchy rain possible\\\\nLight rain shower\\\\nOvercast\\\\nLight rain shower\\\\nPatchy rain possible\\\\nPatchy rain possible\\\\nLight rain shower\\\\nLight rain shower\\\\nCloudy\\\\nLight rain shower\\\\nPatchy rain possible\\\\nLight rain shower\\\\nLight rain shower\\\\nLight rain shower\\\\nPatchy rain possible\\\\nPatchy rain possible\\\\nLight rain shower\\\\nPatchy rain possible\\\\nLight rain shower\\\\nLight rain shower\\\\nPatchy rain possible\\\\nPatchy rain possible\\\\nLight rain shower\\\\nCloudy\\\\nCloudy\\\\nPartly cloudy\\\\nCloudy\", \"score\": 0.8727061}, {\"title\": \"Chennai, Tamil Nadu, India Monthly Weather - AccuWeather\", \"url\": \"https://www.accuweather.com/en/in/chennai/206671/july-weather/206671\", \"content\": \"Get the monthly weather forecast for Chennai, Tamil Nadu, India, including ... Temperature Graph. °F. 110° 102° 94° 86° 78° Jul.\", \"score\": 0.4154922}]', name='tavily_search_results_json', id='62ddd066-369f-411d-847b-10775bed30af', tool_call_id='call_9UA5pH1kzEQMijzhOhrmQ47O', artifact={'query': 'current weather in Chennai', 'follow_up_questions': None, 'answer': None, 'images': [], 'results': [{'url': 'https://www.weather25.com/asia/india/tamil-nadu/chennai?page=month&month=July', 'title': 'Chennai weather in July 2025 - Weather25.com', 'content': 'weather25.com\\nSearch\\nweather in India\\nRemove from your favorite locations\\nAdd to my locations\\nShare\\nweather in India\\n\\n# Chennai weather in July 2025\\n\\nLight rain shower\\nCloudy\\nCloudy\\nPartly cloudy\\nCloudy\\nPartly cloudy\\nOvercast\\nPartly cloudy\\nCloudy\\nPartly cloudy\\nPartly cloudy\\nPartly cloudy\\nPatchy rain possible\\nLight rain shower\\n\\n## The average weather in Chennai in July\\n\\nThe temperatures in Chennai during July are extremely high, between 28°C and hot as 34°C, drinking water regularly is advisable. [...] | 27 Partly cloudy 34° /27° | 28 Cloudy 35° /28° | 29 Partly cloudy 35° /29° | 30 Overcast 35° /28° | 31 Partly cloudy 35° /28° |  |  | [...] Moderate or heavy rain shower\\nPatchy rain possible\\nLight rain shower\\nOvercast\\nLight rain shower\\nPatchy rain possible\\nPatchy rain possible\\nLight rain shower\\nLight rain shower\\nCloudy\\nLight rain shower\\nPatchy rain possible\\nLight rain shower\\nLight rain shower\\nLight rain shower\\nPatchy rain possible\\nPatchy rain possible\\nLight rain shower\\nPatchy rain possible\\nLight rain shower\\nLight rain shower\\nPatchy rain possible\\nPatchy rain possible\\nLight rain shower\\nCloudy\\nCloudy\\nPartly cloudy\\nCloudy', 'score': 0.8727061, 'raw_content': None}, {'url': 'https://www.accuweather.com/en/in/chennai/206671/july-weather/206671', 'title': 'Chennai, Tamil Nadu, India Monthly Weather - AccuWeather', 'content': 'Get the monthly weather forecast for Chennai, Tamil Nadu, India, including ... Temperature Graph. °F. 110° 102° 94° 86° 78° Jul.', 'score': 0.4154922, 'raw_content': None}], 'response_time': 4.45}),\n",
       "  AIMessage(content='The current weather in Chennai indicates light rain showers and cloudy conditions. The temperatures are quite high, ranging between 28°C to 34°C. For a more detailed forecast, you can check AccuWeather [here](https://www.accuweather.com/en/in/chennai/206671/july-weather/206671) or Weather25 [here](https://www.weather25.com/asia/india/tamil-nadu/chennai?page=month&month=July).', additional_kwargs={'refusal': None}, response_metadata={'token_usage': {'completion_tokens': 97, 'prompt_tokens': 585, 'total_tokens': 682, 'completion_tokens_details': {'accepted_prediction_tokens': 0, 'audio_tokens': 0, 'reasoning_tokens': 0, 'rejected_prediction_tokens': 0}, 'prompt_tokens_details': {'audio_tokens': 0, 'cached_tokens': 0}}, 'model_name': 'gpt-4o-mini-2024-07-18', 'system_fingerprint': 'fp_efad92c60b', 'id': 'chatcmpl-BwoLVb8Nq6Pq21F85gbzYExB96D78', 'service_tier': None, 'prompt_filter_results': [{'prompt_index': 0, 'content_filter_results': {'hate': {'filtered': False, 'severity': 'safe'}, 'self_harm': {'filtered': False, 'severity': 'safe'}, 'sexual': {'filtered': False, 'severity': 'safe'}, 'violence': {'filtered': False, 'severity': 'safe'}}}], 'finish_reason': 'stop', 'logprobs': None, 'content_filter_results': {'hate': {'filtered': False, 'severity': 'safe'}, 'self_harm': {'filtered': False, 'severity': 'safe'}, 'sexual': {'filtered': False, 'severity': 'safe'}, 'violence': {'filtered': False, 'severity': 'safe'}}}, id='run--ce30caeb-82a7-4cd1-a126-279f0229e78d-0', usage_metadata={'input_tokens': 585, 'output_tokens': 97, 'total_tokens': 682, 'input_token_details': {'audio': 0, 'cache_read': 0}, 'output_token_details': {'audio': 0, 'reasoning': 0}})]}"
      ]
     },
     "execution_count": 4,
     "metadata": {},
     "output_type": "execute_result"
    }
   ],
   "source": [
    "from typing import TypedDict, Annotated\n",
    "from langgraph.graph import add_messages, StateGraph, START, END\n",
    "from langchain_core.messages import HumanMessage\n",
    "\n",
    "# Define parent graph with the same schema\n",
    "class ParentState(TypedDict):\n",
    "    messages: Annotated[list, add_messages]\n",
    "\n",
    "# Create parent graph\n",
    "parent_graph = StateGraph(ParentState)\n",
    "\n",
    "# Add the subgraph as a node\n",
    "parent_graph.add_node(\"search_agent\", search_app)\n",
    "\n",
    "# Connect the flow\n",
    "parent_graph.add_edge(START, \"search_agent\")\n",
    "parent_graph.add_edge(\"search_agent\", END)\n",
    "\n",
    "# Compile parent graph\n",
    "parent_app = parent_graph.compile()\n",
    "\n",
    "# Run the parent graph\n",
    "result = parent_app.invoke({\"messages\": [HumanMessage(content=\"How is the weather in Chennai?\")]})\n",
    "result"
   ]
  },
  {
   "cell_type": "markdown",
   "metadata": {},
   "source": [
    "Case 2: Different Schema (Invoke with Transformation)"
   ]
  },
  {
   "cell_type": "code",
   "execution_count": 5,
   "metadata": {},
   "outputs": [
    {
     "name": "stdout",
     "output_type": "stream",
     "text": [
      "{'query': 'How is the weather in Chennai?', 'response': 'The current weather in Chennai is characterized by rainy intervals and breezy conditions. The temperatures are quite high, typically ranging between 28°C and 34°C. \\n\\nFor more details, you can check the full forecasts at [Times of India](https://timesofindia.indiatimes.com/weather/chennai-weather-forecast-today/600017) or [Weather25](https://www.weather25.com/asia/india/tamil-nadu/chennai?page=month&month=July).'}\n"
     ]
    }
   ],
   "source": [
    "from typing import TypedDict, Annotated, Dict\n",
    "from langgraph.graph import StateGraph, START, END\n",
    "from langchain_core.messages import HumanMessage\n",
    "\n",
    "# Define parent graph with different schema\n",
    "class QueryState(TypedDict):\n",
    "    query: str\n",
    "    response: str\n",
    "\n",
    "# Function to invoke subgraph\n",
    "def search_agent(state: QueryState) -> Dict:\n",
    "    # Transform from parent schema to subgraph schema\n",
    "    subgraph_input = {\n",
    "        \"messages\": [HumanMessage(content=state[\"query\"])]\n",
    "    }\n",
    "    \n",
    "    # Invoke the subgraph\n",
    "    subgraph_result = search_app.invoke(subgraph_input)\n",
    "    \n",
    "    # Transform response back to parent schema\n",
    "    assistant_message = subgraph_result[\"messages\"][-1]\n",
    "    return {\"response\": assistant_message.content}\n",
    "\n",
    "# Create parent graph\n",
    "parent_graph = StateGraph(QueryState)\n",
    "\n",
    "# Add transformation node that invokes subgraph\n",
    "parent_graph.add_node(\"search_agent\", search_agent)\n",
    "\n",
    "# Connect the flow\n",
    "parent_graph.add_edge(START, \"search_agent\")\n",
    "parent_graph.add_edge(\"search_agent\", END)\n",
    "\n",
    "# Compile parent graph\n",
    "parent_app = parent_graph.compile()\n",
    "\n",
    "# Run the parent graph\n",
    "result = parent_app.invoke({\"query\": \"How is the weather in Chennai?\", \"response\": \"\"})\n",
    "print(result)"
   ]
  }
 ],
 "metadata": {
  "kernelspec": {
   "display_name": "langGraphEnv",
   "language": "python",
   "name": "python3"
  },
  "language_info": {
   "codemirror_mode": {
    "name": "ipython",
    "version": 3
   },
   "file_extension": ".py",
   "mimetype": "text/x-python",
   "name": "python",
   "nbconvert_exporter": "python",
   "pygments_lexer": "ipython3",
   "version": "3.9.6"
  }
 },
 "nbformat": 4,
 "nbformat_minor": 2
}
